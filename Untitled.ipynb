{
 "cells": [
  {
   "cell_type": "code",
   "execution_count": 1,
   "metadata": {},
   "outputs": [],
   "source": [
    "import pandas as pd"
   ]
  },
  {
   "cell_type": "code",
   "execution_count": 2,
   "metadata": {},
   "outputs": [],
   "source": [
    "data=pd.read_excel('reuters1003.xlsx').fillna(0)"
   ]
  },
  {
   "cell_type": "code",
   "execution_count": 3,
   "metadata": {},
   "outputs": [],
   "source": [
    "data['die']=data['die'].astype(int)\n",
    "data['wound']=data['wound'].astype(int)"
   ]
  },
  {
   "cell_type": "code",
   "execution_count": 4,
   "metadata": {},
   "outputs": [],
   "source": [
    "data['date']=pd.to_datetime(data['date'])"
   ]
  },
  {
   "cell_type": "code",
   "execution_count": 5,
   "metadata": {},
   "outputs": [],
   "source": [
    "data['time']=data['date']\n",
    "data['date']=data['time'].dt.date"
   ]
  },
  {
   "cell_type": "code",
   "execution_count": 6,
   "metadata": {},
   "outputs": [],
   "source": [
    "data=data.drop_duplicates('title')\n",
    "data=data.drop_duplicates(['date','die'])"
   ]
  },
  {
   "cell_type": "code",
   "execution_count": 7,
   "metadata": {},
   "outputs": [],
   "source": [
    "out=open('index.html','w')"
   ]
  },
  {
   "cell_type": "code",
   "execution_count": 8,
   "metadata": {},
   "outputs": [
    {
     "data": {
      "text/plain": [
       "376"
      ]
     },
     "execution_count": 8,
     "metadata": {},
     "output_type": "execute_result"
    }
   ],
   "source": [
    "out.write('''\n",
    "    <html>\n",
    "        <head></head>\n",
    "        <body>\n",
    "        <table border=\"1\" cellspacing=\"0\">\n",
    "        <tr>\n",
    "        <th>Date</th>\n",
    "        <th>Time</th>\n",
    "        <th>Title</th>\n",
    "        <th>Number of deaths</th>\n",
    "        <th>Number of injuries</th>\n",
    "        <th>Region</th>\n",
    "        <th>Country</th>\n",
    "        <th>Nightlight</th>\n",
    "        <th width=\"400\">Visualization</th>\n",
    "    </tr>\n",
    "    ''')"
   ]
  },
  {
   "cell_type": "code",
   "execution_count": 9,
   "metadata": {},
   "outputs": [],
   "source": [
    "CO=pd.read_excel(\"CO/Columbia_osa.xlsx\")\n",
    "CO['country']='Columbia'"
   ]
  },
  {
   "cell_type": "code",
   "execution_count": 10,
   "metadata": {},
   "outputs": [],
   "source": [
    "IS=pd.read_excel(\"IL/Israel_osa.xlsx\")\n",
    "IS['country']='Israel'"
   ]
  },
  {
   "cell_type": "code",
   "execution_count": 11,
   "metadata": {},
   "outputs": [],
   "source": [
    "ES=pd.read_excel(\"ES/Spain_osa.xlsx\")\n",
    "ES['country']='Spain'"
   ]
  },
  {
   "cell_type": "code",
   "execution_count": 12,
   "metadata": {},
   "outputs": [
    {
     "name": "stderr",
     "output_type": "stream",
     "text": [
      "/Users/sway/anaconda3/lib/python3.7/site-packages/ipykernel_launcher.py:1: FutureWarning: Sorting because non-concatenation axis is not aligned. A future version\n",
      "of pandas will change to not sort by default.\n",
      "\n",
      "To accept the future behavior, pass 'sort=False'.\n",
      "\n",
      "To retain the current behavior and silence the warning, pass 'sort=True'.\n",
      "\n",
      "  \"\"\"Entry point for launching an IPython kernel.\n"
     ]
    }
   ],
   "source": [
    "treedata=pd.concat([CO,IS,ES])"
   ]
  },
  {
   "cell_type": "code",
   "execution_count": 13,
   "metadata": {},
   "outputs": [],
   "source": [
    "treedata=treedata.sort_values('Timestamp').reset_index()"
   ]
  },
  {
   "cell_type": "code",
   "execution_count": 14,
   "metadata": {},
   "outputs": [],
   "source": [
    "treedata.Timestamp=treedata.Timestamp.dt.date"
   ]
  },
  {
   "cell_type": "code",
   "execution_count": 15,
   "metadata": {},
   "outputs": [],
   "source": [
    "for i in treedata.index:\n",
    "    if treedata['country'][i]=='Israel':\n",
    "        temp_news=data.loc[data['date']==treedata['Timestamp'][i]].loc[data['country']=='IL'].sort_values('time')\n",
    "        if len(temp_news)==0:\n",
    "            continue\n",
    "        date=treedata['Timestamp'][i].strftime('%Y-%m-%d')\n",
    "        time=temp_news['time'].iloc[0].strftime('%mM:%S')\n",
    "        title=temp_news['title'].iloc[0]\n",
    "        deaths=temp_news['die'].iloc[0]\n",
    "        injuries=temp_news['wound'].iloc[0]\n",
    "        city=temp_news['location'].iloc[0]\n",
    "        NEG=treedata.target[i]\n",
    "        result=treedata.pred[i]\n",
    "        URL='IL\\%s'%(treedata.Timestamp[i].strftime('%Y-%m-%d'))\n",
    "        out.write('''\n",
    "<tr>\n",
    "    <th rowspan=\"{length}\">{date}</th>\n",
    "    <th>{time}</th>\n",
    "    <th>{title}</th>\n",
    "    <th>{deaths}</th>\n",
    "    <th>{injuries}</th>\n",
    "    <th>{city}</th>\n",
    "    <th rowspan=\"{length}\">Israel</th>\n",
    "    <th rowspan=\"{length}\">{NL}</th>\n",
    "    <th rowspan=\"{length}\"><a href=\"{URL}\"><img width=\"400\" src=\"{URL}.png\"></a></th>\n",
    "</tr>\n",
    "'''.format(NL=treedata['nightlight'][i],length=len(temp_news),date=treedata['Timestamp'][i].strftime('%Y-%m-%d'),time=temp_news['time'].iloc[0].strftime('%H:%M'),title=temp_news['title'].iloc[0],deaths=temp_news['die'].iloc[0],injuries=temp_news['wound'].iloc[0],city=temp_news['location'].iloc[0],NEG=treedata.target[i],result=treedata.pred[i],URL='IL\\%s'%(treedata.Timestamp[i].strftime('%Y-%m-%d'))))\n",
    "        if len(temp_news>1):\n",
    "            for j in range(1,len(temp_news)):\n",
    "                    out.write('''<tr><th>{time}</th>\n",
    "                    <th>{title}</th>\n",
    "                    <th>{deaths}</th>\n",
    "                    <th>{injuries}</th>\n",
    "                    <th>{city}</th></tr>'''.format(time=temp_news['time'].iloc[j].strftime('%H:%M'),title=temp_news['title'].iloc[j],deaths=temp_news['die'].iloc[j],injuries=temp_news['wound'].iloc[j],city=temp_news['location'].iloc[j]))\n",
    "    if treedata['country'][i]=='Columbia':\n",
    "        temp_news=data.loc[data['date']==treedata['Timestamp'][i]].loc[data['country']=='CO'].sort_values('time')\n",
    "        if len(temp_news)==0:\n",
    "            continue\n",
    "        date=treedata['Timestamp'][i].strftime('%Y-%m-%d')\n",
    "        time=temp_news['time'].iloc[0].strftime('%mM:%S')\n",
    "        title=temp_news['title'].iloc[0]\n",
    "        deaths=temp_news['die'].iloc[0]\n",
    "        injuries=temp_news['wound'].iloc[0]\n",
    "        city=temp_news['location'].iloc[0]\n",
    "        NEG=treedata.target[i]\n",
    "        result=treedata.pred[i]\n",
    "        URL='IL\\%s'%(treedata.Timestamp[i].strftime('%Y-%m-%d'))\n",
    "        out.write('''\n",
    "<tr>\n",
    "    <th rowspan=\"{length}\">{date}</th>\n",
    "    <th>{time}</th>\n",
    "    <th>{title}</th>\n",
    "    <th>{deaths}</th>\n",
    "    <th>{injuries}</th>\n",
    "    <th>{city}</th>\n",
    "    <th rowspan=\"{length}\">Columbia</th>\n",
    "    <th rowspan=\"{length}\">{NL}</th>\n",
    "    <th rowspan=\"{length}\"><a href=\"{URL}\"><img width=\"400\" src=\"CO\\{URL}.png\"></a></th>\n",
    "</tr>\n",
    "'''.format(NL=treedata['nightlight'][i],length=len(temp_news),date=treedata['Timestamp'][i].strftime('%Y-%m-%d'),time=temp_news['time'].iloc[0].strftime('%H:%M'),title=temp_news['title'].iloc[0],deaths=temp_news['die'].iloc[0],injuries=temp_news['wound'].iloc[0],city=temp_news['location'].iloc[0],NEG=treedata.target[i],result=treedata.pred[i],URL='%s'%(treedata.Timestamp[i].strftime('%Y-%m-%d'))))\n",
    "        if len(temp_news>1):\n",
    "            for j in range(1,len(temp_news)):\n",
    "                    out.write('''<tr><th>{time}</th>\n",
    "                    <th>{title}</th>\n",
    "                    <th>{deaths}</th>\n",
    "                    <th>{injuries}</th>\n",
    "                    <th>{city}</th></tr>'''.format(time=temp_news['time'].iloc[j].strftime('%H:%M'),title=temp_news['title'].iloc[j],deaths=temp_news['die'].iloc[j],injuries=temp_news['wound'].iloc[j],city=temp_news['location'].iloc[j]))\n",
    "    if treedata['country'][i]=='Spain':\n",
    "        temp_news=data.loc[data['date']==treedata['Timestamp'][i]].loc[data['country']=='ES'].sort_values('time')\n",
    "        if len(temp_news)==0:\n",
    "            continue\n",
    "        date=treedata['Timestamp'][i].strftime('%Y-%m-%d')\n",
    "        time=temp_news['time'].iloc[0].strftime('%mM:%S')\n",
    "        title=temp_news['title'].iloc[0]\n",
    "        deaths=temp_news['die'].iloc[0]\n",
    "        injuries=temp_news['wound'].iloc[0]\n",
    "        city=temp_news['location'].iloc[0]\n",
    "        NEG=treedata.target[i]\n",
    "        result=treedata.pred[i]\n",
    "        URL='IL\\%s'%(treedata.Timestamp[i].strftime('%Y-%m-%d'))\n",
    "        out.write('''\n",
    "<tr>\n",
    "    <th rowspan=\"{length}\">{date}</th>\n",
    "    <th>{time}</th>\n",
    "    <th>{title}</th>\n",
    "    <th>{deaths}</th>\n",
    "    <th>{injuries}</th>\n",
    "    <th>{city}</th>\n",
    "    <th rowspan=\"{length}\">Spain</th>\n",
    "    <th rowspan=\"{length}\">{NL}</th>\n",
    "    <th rowspan=\"{length}\"><a href=\"{URL}\"><img width=\"400\" src=\"ES\\{URL}.png\"></a></th>\n",
    "</tr>\n",
    "'''.format(NL=treedata['nightlight'][i],length=len(temp_news),date=treedata['Timestamp'][i].strftime('%Y-%m-%d'),time=temp_news['time'].iloc[0].strftime('%H:%M'),title=temp_news['title'].iloc[0],deaths=temp_news['die'].iloc[0],injuries=temp_news['wound'].iloc[0],city=temp_news['location'].iloc[0],NEG=treedata.target[i],result=treedata.pred[i],URL='%s'%(treedata.Timestamp[i].strftime('%Y-%m-%d'))))\n",
    "        if len(temp_news>1):\n",
    "            for j in range(1,len(temp_news)):\n",
    "                    out.write('''<tr><th>{time}</th>\n",
    "                    <th>{title}</th>\n",
    "                    <th>{deaths}</th>\n",
    "                    <th>{injuries}</th>\n",
    "                    <th>{city}</th></tr>'''.format(time=temp_news['time'].iloc[j].strftime('%H:%M'),title=temp_news['title'].iloc[j],deaths=temp_news['die'].iloc[j],injuries=temp_news['wound'].iloc[j],city=temp_news['location'].iloc[j]))"
   ]
  },
  {
   "cell_type": "code",
   "execution_count": 16,
   "metadata": {},
   "outputs": [
    {
     "data": {
      "text/plain": [
       "16"
      ]
     },
     "execution_count": 16,
     "metadata": {},
     "output_type": "execute_result"
    }
   ],
   "source": [
    "out.write('''\n",
    "</table></body>''')"
   ]
  },
  {
   "cell_type": "code",
   "execution_count": 17,
   "metadata": {},
   "outputs": [],
   "source": [
    "out.close()"
   ]
  },
  {
   "cell_type": "code",
   "execution_count": null,
   "metadata": {},
   "outputs": [],
   "source": []
  }
 ],
 "metadata": {
  "kernelspec": {
   "display_name": "Python 3",
   "language": "python",
   "name": "python3"
  },
  "language_info": {
   "codemirror_mode": {
    "name": "ipython",
    "version": 3
   },
   "file_extension": ".py",
   "mimetype": "text/x-python",
   "name": "python",
   "nbconvert_exporter": "python",
   "pygments_lexer": "ipython3",
   "version": "3.7.2"
  }
 },
 "nbformat": 4,
 "nbformat_minor": 4
}
